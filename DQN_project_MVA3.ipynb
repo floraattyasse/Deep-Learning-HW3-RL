{
 "cells": [
  {
   "cell_type": "markdown",
   "metadata": {},
   "source": [
    "**You may need to install [OpenCV](https://pypi.python.org/pypi/opencv-python) and [scikit-video](http://www.scikit-video.org/stable/).**"
   ]
  },
  {
   "cell_type": "code",
   "execution_count": 131,
   "metadata": {},
   "outputs": [],
   "source": [
    "import keras\n",
    "import numpy as np\n",
    "import io\n",
    "import base64\n",
    "from IPython.display import HTML\n",
    "import skvideo\n",
    "skvideo.setFFmpegPath(\"/usr/local/bin\")\n",
    "import skvideo.io\n",
    "import cv2\n",
    "import json\n",
    "from keras.models import Sequential,model_from_json\n",
    "from keras.layers.core import Dense\n",
    "from keras.optimizers import sgd\n",
    "from keras.layers import Conv2D, MaxPooling2D, Activation, AveragePooling2D,Reshape,BatchNormalization,Flatten"
   ]
  },
  {
   "cell_type": "markdown",
   "metadata": {},
   "source": [
    "# MiniProject #3: Deep Reinforcement Learning"
   ]
  },
  {
   "cell_type": "markdown",
   "metadata": {},
   "source": [
    "__Notations__: $E_p$ is the expectation under probability $p$. Please justify each of your answer and widely comment your code."
   ]
  },
  {
   "cell_type": "markdown",
   "metadata": {},
   "source": [
    "# Context"
   ]
  },
  {
   "cell_type": "markdown",
   "metadata": {},
   "source": [
    "In a reinforcement learning algorithm, we modelize each step $t$ as an action $a_t$ obtained from a state $s_t$, i.e. $\\{(a_{t},s_{t})_{t\\leq T}\\}$ having the Markov property. We consider a discount factor $\\gamma \\in [0,1]$ that ensures convergence. The goal is to find among all the policies $\\pi$, one that maximizes the expected reward:\n",
    "\n",
    "\\begin{equation*}\n",
    "R(\\pi)=\\sum_{t\\leq T}E_{p^{\\pi}}[\\gamma^t r(s_{t},a_{t})] \\> ,\n",
    "\\end{equation*}\n",
    "\n",
    "where: \n",
    "\\begin{equation*}p^{\\pi}(a_{0},a_{1},s_{1},...,a_{T},s_{T})=p(a_{0})\\prod_{t=1}^{T}\\pi(a_{t}|s_{t})p(s_{t+1}|s_{t},a_{t}) \\> .\n",
    "\\end{equation*}\n",
    "\n",
    "We note the $Q$-function:\n",
    "\n",
    "\\begin{equation*}Q^\\pi(s,a)=E_{p^{\\pi}}[\\sum_{t\\leq T}\\gamma^{t}r(s_{t},a_{t})|s_{0}=s,a_{0}=a] \\> .\n",
    "\\end{equation*}\n",
    "\n",
    "Thus, the optimal Q function is:\n",
    "\\begin{equation*}\n",
    "Q^*(s,a)=\\max_{\\pi}Q^\\pi(s,a) \\> .\n",
    "\\end{equation*}\n",
    "\n",
    "In this project, we will apply the deep reinforcement learning techniques to a simple game: an agent will have to learn from scratch a policy that will permit it maximizing a reward."
   ]
  },
  {
   "cell_type": "markdown",
   "metadata": {},
   "source": [
    "## The environment, the agent and the game"
   ]
  },
  {
   "cell_type": "markdown",
   "metadata": {},
   "source": [
    "### The environment"
   ]
  },
  {
   "cell_type": "markdown",
   "metadata": {},
   "source": [
    "```Environment``` is an abstract class that represents the states, rewards, and actions to obtain the new state."
   ]
  },
  {
   "cell_type": "code",
   "execution_count": 132,
   "metadata": {
    "collapsed": true
   },
   "outputs": [],
   "source": [
    "class Environment(object):\n",
    "    def __init__(self):\n",
    "        pass\n",
    "\n",
    "    def act(self, act):\n",
    "        \"\"\"\n",
    "        One can act on the environment and obtain its reaction:\n",
    "        - the new state\n",
    "        - the reward of the new state\n",
    "        - should we continue the game?\n",
    "        :return: state, reward, game_over\n",
    "        \"\"\"\n",
    "        pass\n",
    "\n",
    "\n",
    "    def reset(self):\n",
    "        \"\"\"\n",
    "        Reinitialize the environment to a random state and returns\n",
    "        the original state\n",
    "\n",
    "        :return: state\n",
    "        \"\"\"\n",
    "        pass\n",
    "    \n",
    "    def draw(self):\n",
    "        \"\"\"\n",
    "        Visualize in the console or graphically the current state\n",
    "        \"\"\"\n",
    "        pass"
   ]
  },
  {
   "cell_type": "markdown",
   "metadata": {},
   "source": [
    "The method ```act``` allows to act on the environment at a given state $s_t$ (stored internally), via action $a_t$. The method will return the new state $s_{t+1}$, the reward $r(s_{t},a_{t})$ and determines if $t\\leq T$ (*game_over*).\n",
    "\n",
    "The method ```reset``` simply reinitializes the environment to a random state $s_0$.\n",
    "\n",
    "The method ```draw``` displays the current state $s_t$ (this is useful to check the behavior of the Agent).\n",
    "\n",
    "We modelize $s_t$ as a tensor, while $a_t$ is an integer."
   ]
  },
  {
   "cell_type": "markdown",
   "metadata": {},
   "source": [
    "### The Agent"
   ]
  },
  {
   "cell_type": "markdown",
   "metadata": {},
   "source": [
    "The goal of the ```Agent``` is to interact with the ```Environment``` by proposing actions $a_t$ obtained from a given state $s_t$ to attempt to maximize its __reward__ $r(s_t,a_t)$. We propose the following abstract class:"
   ]
  },
  {
   "cell_type": "code",
   "execution_count": 133,
   "metadata": {
    "collapsed": true
   },
   "outputs": [],
   "source": [
    "class Agent(object):\n",
    "    def __init__(self, epsilon=0.1, n_action=4):\n",
    "        self.epsilon = epsilon\n",
    "        self.n_action = n_action\n",
    "    \n",
    "    def set_epsilon(self,e):\n",
    "        self.epsilon = e\n",
    "\n",
    "    def act(self,s,train=True):\n",
    "        \"\"\" This function should return the next action to do:\n",
    "        an integer between 0 and 4 (not included) with a random exploration of epsilon\"\"\"\n",
    "        if train:\n",
    "            if np.random.rand() <= self.epsilon:\n",
    "                a = np.random.randint(0, self.n_action, size=1)[0]\n",
    "            else:\n",
    "                a = self.learned_act(s)\n",
    "        else: # in some cases, this can improve the performance.. remove it if poor performances\n",
    "            a = self.learned_act(s)\n",
    "\n",
    "        return a\n",
    "\n",
    "    def learned_act(self,s):\n",
    "        \"\"\" Act via the policy of the agent, from a given state s\n",
    "        it proposes an action a\"\"\"\n",
    "        pass\n",
    "\n",
    "    def reinforce(self, s, n_s, a, r, game_over_):\n",
    "        \"\"\" This function is the core of the learning algorithm. \n",
    "        It takes as an input the current state s_, the next state n_s_\n",
    "        the action a_ used to move from s_ to n_s_ and the reward r_.\n",
    "        \n",
    "        Its goal is to learn a policy.\n",
    "        \"\"\"\n",
    "        pass\n",
    "\n",
    "    def save(self):\n",
    "        \"\"\" This function returns basic stats if applicable: the\n",
    "        loss and/or the model\"\"\"\n",
    "        pass\n",
    "\n",
    "    def load(self):\n",
    "        \"\"\" This function allows to restore a model\"\"\"\n",
    "        pass"
   ]
  },
  {
   "cell_type": "markdown",
   "metadata": {},
   "source": [
    "***\n",
    "__Question 1__:\n",
    "Explain the function act. Why is ```epsilon``` essential?\n",
    "\n",
    "\n",
    "This is a epsilon greedy policy which is a way to selecting random actions with uniform distribution from a set of available actions. Here the act function define which next action will be choosen between the 3 possible ones.\n",
    "When we use this policy we can select a learned exploration environnement policy with probability 1-epsilon which is supposed to be the optimal choice, which gives maximum reward, or we can choose the random policy with propability epsilon which choose random direction.\n",
    "That is why the choice of epsilon is determinant.\n"
   ]
  },
  {
   "cell_type": "markdown",
   "metadata": {},
   "source": [
    "***\n",
    "### The Game"
   ]
  },
  {
   "cell_type": "markdown",
   "metadata": {},
   "source": [
    "The ```Agent``` and the ```Environment``` work in an interlaced way as in the following (take some time to understand this code as it is the core of the project)\n",
    "\n",
    "```python\n",
    "\n",
    "epoch = 300\n",
    "env = Environment()\n",
    "agent = Agent()\n",
    "\n",
    "\n",
    "# Number of won games\n",
    "score = 0\n",
    "loss = 0\n",
    "\n",
    "\n",
    "for e in range(epoch):\n",
    "    # At each epoch, we restart to a fresh game and get the initial state\n",
    "    state = env.reset()\n",
    "    # This assumes that the games will end\n",
    "    game_over = False\n",
    "\n",
    "    win = 0\n",
    "    lose = 0\n",
    "    \n",
    "    while not game_over:\n",
    "        # The agent performs an action\n",
    "        action = agent.act(state)\n",
    "\n",
    "        # Apply an action to the environment, get the next state, the reward\n",
    "        # and if the games end\n",
    "        prev_state = state\n",
    "        state, reward, game_over = env.act(action)\n",
    "\n",
    "        # Update the counters\n",
    "        if reward > 0:\n",
    "            win = win + reward\n",
    "        if reward < 0:\n",
    "            lose = lose -reward\n",
    "\n",
    "        # Apply the reinforcement strategy\n",
    "        loss = agent.reinforce(prev_state, state,  action, reward, game_over)\n",
    "\n",
    "    # Save as a mp4\n",
    "    if e % 10 == 0:\n",
    "        env.draw(e)\n",
    "\n",
    "    # Update stats\n",
    "    score += win-lose\n",
    "\n",
    "    print(\"Epoch {:03d}/{:03d} | Loss {:.4f} | Win/lose count {}/{} ({})\"\n",
    "          .format(e, epoch, loss, win, lose, win-lose))\n",
    "    agent.save()\n",
    "```"
   ]
  },
  {
   "cell_type": "markdown",
   "metadata": {},
   "source": [
    "# The game, *eat cheese*"
   ]
  },
  {
   "cell_type": "markdown",
   "metadata": {},
   "source": [
    "A rat runs on an island and tries to eat as much as possible. The island is subdivided into $N\\times N$ cells, in which there are cheese (+0.5) and poisonous cells (-1). The rat has a visibility of 2 cells (thus it can see $5^2$ cells). The rat is given a time $T$ to accumulate as much food as possible. It can perform 4 actions: going up, down, left, right. \n",
    "\n",
    "The goal is to code an agent to solve this task that will learn by trial and error. We propose the following environment:"
   ]
  },
  {
   "cell_type": "code",
   "execution_count": 134,
   "metadata": {
    "collapsed": true
   },
   "outputs": [],
   "source": [
    "class Environment(object):\n",
    "    def __init__(self, grid_size=10, max_time=500, temperature=0.1):\n",
    "        grid_size = grid_size+4\n",
    "        self.grid_size = grid_size\n",
    "        self.max_time = max_time\n",
    "        self.temperature = temperature\n",
    "\n",
    "        #board on which one plays\n",
    "        self.board = np.zeros((grid_size,grid_size))\n",
    "        self.position = np.zeros((grid_size,grid_size))\n",
    "\n",
    "        # coordinate of the cat\n",
    "        self.x = 0\n",
    "        self.y = 1\n",
    "\n",
    "        # self time\n",
    "        self.t = 0\n",
    "\n",
    "        self.scale=16\n",
    "\n",
    "        self.to_draw = np.zeros((max_time+2, grid_size*self.scale, grid_size*self.scale, 3))\n",
    "\n",
    "\n",
    "    def draw(self,e):\n",
    "        skvideo.io.vwrite(str(e) + '.mp4', self.to_draw)\n",
    "\n",
    "    def get_frame(self,t):\n",
    "        b = np.zeros((self.grid_size,self.grid_size,3))+128\n",
    "        b[self.board>0,0] = 256\n",
    "        b[self.board < 0, 2] = 256\n",
    "        b[self.x,self.y,:]=256\n",
    "        b[-2:,:,:]=0\n",
    "        b[:,-2:,:]=0\n",
    "        b[:2,:,:]=0\n",
    "        b[:,:2,:]=0\n",
    "        \n",
    "        b =  cv2.resize(b, None, fx=self.scale, fy=self.scale, interpolation=cv2.INTER_NEAREST)\n",
    "\n",
    "        self.to_draw[t,:,:,:]=b\n",
    "\n",
    "\n",
    "    def act(self, action):\n",
    "        \"\"\"This function returns the new state, reward and decides if the\n",
    "        game ends.\"\"\"\n",
    "\n",
    "        self.get_frame(int(self.t))\n",
    "\n",
    "        self.position = np.zeros((self.grid_size, self.grid_size))\n",
    "\n",
    "        self.position[0:2,:]= -1\n",
    "        self.position[:,0:2] = -1\n",
    "        self.position[-2:, :] = -1\n",
    "        self.position[-2:, :] = -1\n",
    "\n",
    "        self.position[self.x, self.y] = 1\n",
    "        if action == 0:\n",
    "            if self.x == self.grid_size-3:\n",
    "                self.x = self.x-1\n",
    "            else:\n",
    "                self.x = self.x + 1\n",
    "        elif action == 1:\n",
    "            if self.x == 2:\n",
    "                self.x = self.x+1\n",
    "            else:\n",
    "                self.x = self.x-1\n",
    "        elif action == 2:\n",
    "            if self.y == self.grid_size - 3:\n",
    "                self.y = self.y - 1\n",
    "            else:\n",
    "                self.y = self.y + 1\n",
    "        elif action == 3:\n",
    "            if self.y == 2:\n",
    "                self.y = self.y + 1\n",
    "            else:\n",
    "                self.y = self.y - 1\n",
    "        else:\n",
    "            RuntimeError('Error: action not recognized')\n",
    "\n",
    "        self.t = self.t + 1\n",
    "        reward = self.board[self.x, self.y]\n",
    "        self.board[self.x, self.y] = 0\n",
    "        game_over = self.t > self.max_time\n",
    "        state = np.concatenate((self.board.reshape(self.grid_size, self.grid_size,1),\n",
    "                        self.position.reshape(self.grid_size, self.grid_size,1)),axis=2)\n",
    "        state = state[self.x-2:self.x+3,self.y-2:self.y+3,:]\n",
    "\n",
    "        return state, reward, game_over\n",
    "\n",
    "    def reset(self):\n",
    "        \"\"\"This function resets the game and returns the initial state\"\"\"\n",
    "\n",
    "        self.x = np.random.randint(3, self.grid_size-3, size=1)[0]\n",
    "        self.y = np.random.randint(3, self.grid_size-3, size=1)[0]\n",
    "\n",
    "\n",
    "        bonus = 0.5*np.random.binomial(1,self.temperature,size=self.grid_size**2)\n",
    "        bonus = bonus.reshape(self.grid_size,self.grid_size)\n",
    "\n",
    "        malus = -1.0*np.random.binomial(1,self.temperature,size=self.grid_size**2)\n",
    "        malus = malus.reshape(self.grid_size, self.grid_size)\n",
    "\n",
    "        self.to_draw = np.zeros((self.max_time+2, self.grid_size*self.scale, self.grid_size*self.scale, 3))\n",
    "\n",
    "\n",
    "        malus[bonus>0]=0\n",
    "\n",
    "        self.board = bonus + malus\n",
    "\n",
    "        self.position = np.zeros((self.grid_size, self.grid_size))\n",
    "        self.position[0:2,:]= -1\n",
    "        self.position[:,0:2] = -1\n",
    "        self.position[-2:, :] = -1\n",
    "        self.position[-2:, :] = -1\n",
    "        self.board[self.x,self.y] = 0\n",
    "        self.t = 0\n",
    "\n",
    "        state = np.concatenate((\n",
    "                               self.board.reshape(self.grid_size, self.grid_size,1),\n",
    "                        self.position.reshape(self.grid_size, self.grid_size,1)),axis=2)\n",
    "\n",
    "        state = state[self.x - 2:self.x + 3, self.y - 2:self.y + 3, :]\n",
    "        return state"
   ]
  },
  {
   "cell_type": "markdown",
   "metadata": {},
   "source": [
    "The following elements are important because they correspond to the hyper parameters for this project:"
   ]
  },
  {
   "cell_type": "code",
   "execution_count": 135,
   "metadata": {},
   "outputs": [],
   "source": [
    "# parameters\n",
    "size = 13\n",
    "T=200\n",
    "temperature=0.3\n",
    "epochs_train = 100 # set small when debugging\n",
    "epochs_test = 20 # set small when debugging\n",
    "\n",
    "# display videos\n",
    "def display_videos(name):\n",
    "    video = io.open(name, 'r+b').read()\n",
    "    encoded = base64.b64encode(video)\n",
    "    return '''<video alt=\"test\" controls>\n",
    "                <source src=\"data:video/mp4;base64,{0}\" type=\"video/mp4\" />\n",
    "             </video>'''.format(encoded.decode('ascii'))"
   ]
  },
  {
   "cell_type": "markdown",
   "metadata": {},
   "source": [
    "__Question 2__ Explain the use of the arrays ```position``` and ```board```.\n",
    "\n",
    "Board represents which cells have a reward:  cheese (+0.5) , poison(-1) or nothing (0). \n",
    "So, its a matrix with these values.\n",
    "position represents the cells where the rat are and where he cannot go. "
   ]
  },
  {
   "cell_type": "markdown",
   "metadata": {},
   "source": [
    "## Random Agent"
   ]
  },
  {
   "cell_type": "markdown",
   "metadata": {},
   "source": [
    "***\n",
    "__Question 3__ Implement a random Agent (only ```learned_act``` needs to be implemented):"
   ]
  },
  {
   "cell_type": "code",
   "execution_count": 136,
   "metadata": {
    "collapsed": true
   },
   "outputs": [],
   "source": [
    "class RandomAgent(Agent):\n",
    "    def __init__(self):\n",
    "        super(RandomAgent, self).__init__()\n",
    "        pass\n",
    "\n",
    "    def learned_act(self, s):\n",
    "        return np.random.randint(4)"
   ]
  },
  {
   "cell_type": "markdown",
   "metadata": {},
   "source": [
    "***\n",
    "***\n",
    "__Question 4__ Visualize the game moves. You need to fill in the following function for the evaluation:"
   ]
  },
  {
   "cell_type": "code",
   "execution_count": 137,
   "metadata": {},
   "outputs": [],
   "source": [
    "def test(agent,env,epoch,prefix=''):\n",
    "    # Number of won games\n",
    "    score = 0\n",
    "    loss = 0\n",
    "\n",
    "\n",
    "    for e in range(epoch):\n",
    "    # At each epoch, we restart to a fresh game and get the initial state\n",
    "        state = env.reset()\n",
    "    # This assumes that the games will end\n",
    "        game_over = False\n",
    "\n",
    "        win = 0\n",
    "        lose = 0\n",
    "\n",
    "        while not game_over:\n",
    "        # The agent performs an action\n",
    "            action = agent.learned_act(state)\n",
    "\n",
    "        # Apply an action to the environment, get the next state, the reward\n",
    "        # and if the games end\n",
    "            prev_state = state\n",
    "            state, reward, game_over = env.act(action)\n",
    "\n",
    "        # Update the counters\n",
    "            if reward > 0:\n",
    "                win = win + reward\n",
    "            if reward < 0:\n",
    "                lose = lose -reward\n",
    "\n",
    "        # Apply the reinforcement strategy\n",
    "            #loss = agent.reinforce(prev_state, state,  action, reward, game_over)\n",
    "\n",
    "    # Save as a mp4\n",
    "        env.draw(prefix+str(e))\n",
    "        #if e % 10 == 0:\n",
    "            #env.draw(e)\n",
    "\n",
    "    # Update stats\n",
    "        score += win-lose\n",
    "\n",
    "        print(\"Epoch {:03d}/{:03d} | Loss {:.4f} | Win/lose count {}/{} ({})\".format(e, epoch, loss, win, lose, win-lose))\n",
    "        agent.save()\n",
    "    print('Final score: '+str(score/epoch))\n",
    "\n"
   ]
  },
  {
   "cell_type": "code",
   "execution_count": 138,
   "metadata": {},
   "outputs": [
    {
     "name": "stdout",
     "output_type": "stream",
     "text": [
      "Epoch 000/020 | Loss 0.0000 | Win/lose count 8.0/17.0 (-9.0)\n",
      "Epoch 001/020 | Loss 0.0000 | Win/lose count 10.0/6.0 (4.0)\n",
      "Epoch 002/020 | Loss 0.0000 | Win/lose count 8.0/14.0 (-6.0)\n",
      "Epoch 003/020 | Loss 0.0000 | Win/lose count 5.5/6.0 (-0.5)\n",
      "Epoch 004/020 | Loss 0.0000 | Win/lose count 9.5/14.0 (-4.5)\n",
      "Epoch 005/020 | Loss 0.0000 | Win/lose count 6.5/8.0 (-1.5)\n",
      "Epoch 006/020 | Loss 0.0000 | Win/lose count 9.0/8.0 (1.0)\n",
      "Epoch 007/020 | Loss 0.0000 | Win/lose count 3.5/15.0 (-11.5)\n",
      "Epoch 008/020 | Loss 0.0000 | Win/lose count 10.5/16.0 (-5.5)\n",
      "Epoch 009/020 | Loss 0.0000 | Win/lose count 10.0/16.0 (-6.0)\n",
      "Epoch 010/020 | Loss 0.0000 | Win/lose count 11.5/15.0 (-3.5)\n",
      "Epoch 011/020 | Loss 0.0000 | Win/lose count 8.0/16.0 (-8.0)\n",
      "Epoch 012/020 | Loss 0.0000 | Win/lose count 9.5/11.0 (-1.5)\n",
      "Epoch 013/020 | Loss 0.0000 | Win/lose count 7.5/14.0 (-6.5)\n",
      "Epoch 014/020 | Loss 0.0000 | Win/lose count 11.0/8.0 (3.0)\n",
      "Epoch 015/020 | Loss 0.0000 | Win/lose count 5.5/15.0 (-9.5)\n",
      "Epoch 016/020 | Loss 0.0000 | Win/lose count 14.0/11.0 (3.0)\n",
      "Epoch 017/020 | Loss 0.0000 | Win/lose count 12.0/16.0 (-4.0)\n",
      "Epoch 018/020 | Loss 0.0000 | Win/lose count 8.5/13.0 (-4.5)\n",
      "Epoch 019/020 | Loss 0.0000 | Win/lose count 11.5/13.0 (-1.5)\n",
      "Final score: -3.625\n"
     ]
    },
    {
     "data": {
      "text/html": [
       "<video alt=\"test\" controls>\n",
       "                <source src=\"data:video/mp4;base64,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\" type=\"video/mp4\" />\n",
       "             </video>"
      ],
      "text/plain": [
       "<IPython.core.display.HTML object>"
      ]
     },
     "execution_count": 138,
     "metadata": {},
     "output_type": "execute_result"
    }
   ],
   "source": [
    "# Initialize the game\n",
    "env = Environment(grid_size=size, max_time=T,temperature=temperature)\n",
    "\n",
    "# Initialize the agent!\n",
    "agent = RandomAgent()\n",
    "\n",
    "test(agent,env,epochs_test,prefix='random')\n",
    "HTML(display_videos('random0.mp4'))"
   ]
  },
  {
   "cell_type": "markdown",
   "metadata": {},
   "source": [
    "***\n",
    "## DQN"
   ]
  },
  {
   "cell_type": "markdown",
   "metadata": {},
   "source": [
    "Let us assume here that $T=\\infty$.\n",
    "\n",
    "***\n",
    "__Question 5__ Let $\\pi$ be a policy, show that:\n",
    "\n",
    "\\begin{equation*}\n",
    "Q^{\\pi}(s,a)=E_{(s',a')\\sim p(.|s,a)}[r(s,a)+\\gamma Q^{\\pi}(s',a')]\n",
    "\\end{equation*}\n",
    "\n",
    "Then, show that for the optimal policy $\\pi^*$ (we assume its existence), the following holds: \n",
    "\n",
    "\\begin{equation*}\n",
    "Q^{*}(s,a)=E_{s'\\sim \\pi^*(.|s,a)}[r(s,a)+\\gamma\\max_{a'}Q^{*}(s',a')].\n",
    "\\end{equation*}\n",
    "Finally, deduce that a plausible objective is:\n",
    "\n",
    "\\begin{equation*}\n",
    "\\mathcal{L}(\\theta)=E_{s' \\sim \\pi^*(.|s,a)}\\Vert r+\\gamma\\max\\max_{a'}Q(s',a',\\theta)-Q(s,a,\\theta)\\Vert^{2}.\n",
    "\\end{equation*}\n",
    "\n",
    "\n"
   ]
  },
  {
   "cell_type": "markdown",
   "metadata": {},
   "source": []
  },
  {
   "cell_type": "markdown",
   "metadata": {},
   "source": [
    "***\n",
    "The DQN-learning algorithm relies on these derivations to train the parameters $\\theta$ of a Deep Neural Network:\n",
    "\n",
    "1. At the state $s_t$, select the action $a_t$ with best reward using $Q_t$ and store the results;\n",
    "\n",
    "2. Obtain the new state $s_{t+1}$ from the environment $p$;\n",
    "\n",
    "3. Store $(s_t,a_t,s_{t+1})$;\n",
    "\n",
    "4. Obtain $Q_{t+1}$ by minimizing  $\\mathcal{L}$ from a recovered batch from the previously stored results.\n",
    "\n",
    "***\n",
    "__Question 6__ Implement the class ```Memory``` that stores moves (in a replay buffer) via ```remember``` and provides a ```random_access``` to these. Specify a maximum memory size to avoid side effects. You can for example use a ```list()``` and set by default ```max_memory=100```."
   ]
  },
  {
   "cell_type": "code",
   "execution_count": 82,
   "metadata": {
    "collapsed": true
   },
   "outputs": [],
   "source": [
    "class Memory(object):\n",
    "    def __init__(self, max_memory=100):\n",
    "        self.max_memory = max_memory\n",
    "        self.memory = list()\n",
    "\n",
    "    def remember(self, m):\n",
    "        if len(self.memory) < self.max_memory:self.memory.append(m)\n",
    "        else: del self.memory[0]\n",
    "            \n",
    "    def random_access(self):\n",
    "        return self.memory[np.random.randint(0,len(self.memory))]"
   ]
  },
  {
   "cell_type": "markdown",
   "metadata": {},
   "source": [
    "***\n",
    "The pipeline we will use for training is given below:"
   ]
  },
  {
   "cell_type": "code",
   "execution_count": 83,
   "metadata": {
    "collapsed": true
   },
   "outputs": [],
   "source": [
    "def train(agent,env,epoch,prefix=''):\n",
    "    # Number of won games\n",
    "    score = 0\n",
    "    loss = 0\n",
    "\n",
    "    for e in range(epoch):\n",
    "        # At each epoch, we restart to a fresh game and get the initial state\n",
    "        state = env.reset()\n",
    "        # This assumes that the games will terminate\n",
    "        game_over = False\n",
    "\n",
    "        win = 0\n",
    "        lose = 0\n",
    "\n",
    "        while not game_over:\n",
    "            # The agent performs an action\n",
    "            action = agent.act(state)\n",
    "\n",
    "            # Apply an action to the environment, get the next state, the reward\n",
    "            # and if the games end\n",
    "            prev_state = state\n",
    "            state, reward, game_over = env.act(action)\n",
    "\n",
    "            # Update the counters\n",
    "            if reward > 0:\n",
    "                win = win + reward\n",
    "            if reward < 0:\n",
    "                lose = lose -reward\n",
    "\n",
    "            # Apply the reinforcement strategy\n",
    "            loss = agent.reinforce(prev_state, state,  action, reward, game_over)\n",
    "\n",
    "        # Save as a mp4\n",
    "        if e % 10 == 0:\n",
    "            env.draw(prefix+str(e))\n",
    "\n",
    "        # Update stats\n",
    "        score += win-lose\n",
    "\n",
    "        print(\"Epoch {:03d}/{:03d} | Loss {:.4f} | Win/lose count {}/{} ({})\"\n",
    "              .format(e, epoch, loss, win, lose, win-lose))\n",
    "        agent.save(name_weights=prefix+'model.h5',name_model=prefix+'model.json')\n",
    "    print('Final score: '+str(score/epoch))\n"
   ]
  },
  {
   "cell_type": "markdown",
   "metadata": {},
   "source": [
    "***\n",
    "__Question 7__ Implement the DQN training algorithm using a cascade of fully connected layers. You can use different learning rate, batch size or memory size parameters. In particular, the loss might oscillate while the player will start to win the games. You have to find a good criterium."
   ]
  },
  {
   "cell_type": "code",
   "execution_count": 64,
   "metadata": {
    "collapsed": true
   },
   "outputs": [],
   "source": [
    "class DQN(Agent):\n",
    "    def __init__(self, grid_size,  epsilon = 0.1, memory_size=100, batch_size = 16,n_state=2):\n",
    "        super(DQN, self).__init__(epsilon = epsilon)\n",
    "\n",
    "        # Discount for Q learning\n",
    "        self.discount = 0.99\n",
    "        \n",
    "        self.grid_size = grid_size\n",
    "        \n",
    "        # number of state\n",
    "        self.n_state = n_state\n",
    "\n",
    "        # Memory\n",
    "        self.memory = Memory(memory_size)\n",
    "        \n",
    "        # Batch size when learning\n",
    "        self.batch_size = batch_size\n",
    "\n",
    "    def learned_act(self, s):\n",
    "        return np.argmax(self.model.predict(s.reshape([1,s.shape[0],s.shape[1],s.shape[2]]))[0,:])\n",
    "\n",
    "    def reinforce(self, s_, n_s_, a_, r_, game_over_):\n",
    "        # Two steps: first memorize the states, second learn from the pool\n",
    "\n",
    "        self.memory.remember([s_, n_s_, a_, r_, game_over_])\n",
    "        \n",
    "        input_states = np.zeros((self.batch_size, 5,5,self.n_state))\n",
    "        target_q = np.zeros((self.batch_size, 4))\n",
    "        \n",
    "        for i in range(self.batch_size):\n",
    "            s_, n_s_, a_, r_, game_over_  = self.memory.random_access()\n",
    "            input_states[i] = s_\n",
    "            target_q[i] =self.model.predict(s_.reshape([1,s_.shape[0],s_.shape[1],s_.shape[2]]))[0]\n",
    "            \n",
    "            if game_over_:\n",
    "                target_q[i, a_] = r_\n",
    "            else:\n",
    "                target_q[i, a_] = r_ + self.discount * np.max((self.model.predict(n_s_.reshape([1,s.shape[0],s.shape[1],s.shape[2]]))[0,:]))\n",
    "        ######## FILL IN\n",
    "        # HINT: Clip the target to avoid exploiding gradients.. -- clipping is a bit tighter\n",
    "        target_q = np.clip(target_q, -3, 3)\n",
    "\n",
    "        l = self.model.train_on_batch(input_states, target_q)\n",
    "\n",
    "\n",
    "        return l\n",
    "\n",
    "    def save(self,name_weights='model.h5',name_model='model.json'):\n",
    "        self.model.save_weights(name_weights, overwrite=True)\n",
    "        with open(name_model, \"w\") as outfile:\n",
    "            json.dump(self.model.to_json(), outfile)\n",
    "            \n",
    "    def load(self,name_weights='model.h5',name_model='model.json'):\n",
    "        with open(name_model, \"r\") as jfile:\n",
    "            model = model_from_json(json.load(jfile))\n",
    "        model.load_weights(name_weights)\n",
    "        model.compile(\"sgd\", \"mse\")\n",
    "        self.model = model\n",
    "\n",
    "            \n",
    "class DQN_FC(DQN):\n",
    "    def __init__(self, *args, lr=0.1,**kwargs):\n",
    "        super(DQN_FC, self).__init__( *args,**kwargs)\n",
    "        \n",
    "        # NN Model\n",
    "        model = Sequential()\n",
    "        model.add(Flatten(input_shape=(5,5,self.n_state,)))\n",
    "        model.add(Dense(30,activation ='relu'))\n",
    "        model.add(Dense(4))\n",
    "        \n",
    "        ####### FILL IN\n",
    "        \n",
    "        model.compile(sgd(lr=lr, decay=1e-4, momentum=0.0), \"mse\")\n",
    "        self.model = model\n",
    "        "
   ]
  },
  {
   "cell_type": "code",
   "execution_count": 84,
   "metadata": {},
   "outputs": [],
   "source": [
    "class DQN(Agent):\n",
    "    def __init__(self, grid_size,  epsilon = 0.1, memory_size=100, batch_size = 16,n_state=2):\n",
    "        super(DQN, self).__init__(epsilon = epsilon)\n",
    "\n",
    "        # Discount for Q learning\n",
    "        self.discount = 0.99\n",
    "        \n",
    "        self.grid_size = grid_size\n",
    "        \n",
    "        # number of state\n",
    "        self.n_state = n_state\n",
    "\n",
    "        # Memory\n",
    "        self.memory = Memory(memory_size)\n",
    "        \n",
    "        # Batch size when learning\n",
    "        self.batch_size = batch_size\n",
    "\n",
    "    def learned_act(self, s):\n",
    "        return np.argmax(self.model.predict(s.reshape([1,s.shape[0],s.shape[1],s.shape[2]]))[0,:])\n",
    "\n",
    "    def reinforce(self, s_, n_s_, a_, r_, game_over_):\n",
    "        # Two steps: first memorize the states, second learn from the pool\n",
    "        self.memory.remember([s_, n_s_, a_, r_, game_over_])\n",
    "        input_states = np.zeros((self.batch_size, 5,5,self.n_state))\n",
    "        target_q = np.zeros((self.batch_size, 4))\n",
    "        \n",
    "        for i in range(self.batch_size):\n",
    "            s_, n_s_, a_, r_, game_over_  = self.memory.random_access()\n",
    "            target_q[i] =self.model.predict(s_.reshape([1,s_.shape[0],s_.shape[1],s_.shape[2]]))[0]\n",
    "            \n",
    "            if game_over_:\n",
    "                input_states[i] = s_\n",
    "                target_q[i,a_] = r_\n",
    "            else:\n",
    "                input_states[i] = s_\n",
    "                target_q[i,a_] = r_  + self.discount*max(self.model.predict(n_s_.reshape([1,s_.shape[0],s_.shape[1],s_.shape[2]]))[0])\n",
    "                \n",
    "        # HINT: Clip the target to avoid exploiding gradients.. -- clipping is a bit tighter\n",
    "        target_q = np.clip(target_q, -3, 3)\n",
    "        l = self.model.train_on_batch(input_states, target_q)\n",
    "        return l\n",
    "\n",
    "    def save(self,name_weights='model.h5',name_model='model.json'):\n",
    "        self.model.save_weights(name_weights, overwrite=True)\n",
    "        with open(name_model, \"w\") as outfile:\n",
    "            json.dump(self.model.to_json(), outfile)\n",
    "            \n",
    "    def load(self,name_weights='model.h5',name_model='model.json'):\n",
    "        with open(name_model, \"r\") as jfile:\n",
    "            model = model_from_json(json.load(jfile))\n",
    "        model.load_weights(name_weights)\n",
    "        model.compile(\"sgd\", \"mse\")\n",
    "        self.model = model\n",
    "            \n",
    "class DQN_FC(DQN):\n",
    "    def __init__(self, *args, lr=0.1,**kwargs):\n",
    "        super(DQN_FC, self).__init__( *args,**kwargs)\n",
    "        \n",
    "        # NN Model\n",
    "        model = Sequential()\n",
    "        model.add(Flatten(input_shape=(5,5,self.n_state,)))\n",
    "        model.add(Dense(30,activation ='relu'))\n",
    "        model.add(Dense(4))\n",
    "        \n",
    "        model.compile(sgd(lr=lr, decay=1e-4, momentum=0.0), \"mse\")\n",
    "        self.model = model"
   ]
  },
  {
   "cell_type": "code",
   "execution_count": 85,
   "metadata": {
    "collapsed": true
   },
   "outputs": [
    {
     "name": "stdout",
     "output_type": "stream",
     "text": [
      "Epoch 000/100 | Loss 0.0056 | Win/lose count 5.0/9.0 (-4.0)\n",
      "Epoch 001/100 | Loss 0.0106 | Win/lose count 2.5/3.0 (-0.5)\n",
      "Epoch 002/100 | Loss 0.0404 | Win/lose count 2.5/8.0 (-5.5)\n",
      "Epoch 003/100 | Loss 0.0038 | Win/lose count 1.0/3.0 (-2.0)\n",
      "Epoch 004/100 | Loss 0.0038 | Win/lose count 3.0/7.0 (-4.0)\n",
      "Epoch 005/100 | Loss 0.0387 | Win/lose count 3.0/2.0 (1.0)\n",
      "Epoch 006/100 | Loss 0.0288 | Win/lose count 2.0/3.0 (-1.0)\n",
      "Epoch 007/100 | Loss 0.0059 | Win/lose count 3.0/3.0 (0.0)\n",
      "Epoch 008/100 | Loss 0.0074 | Win/lose count 1.0/6.0 (-5.0)\n",
      "Epoch 009/100 | Loss 0.0096 | Win/lose count 2.0/3.0 (-1.0)\n",
      "Epoch 010/100 | Loss 0.0613 | Win/lose count 2.5/3.0 (-0.5)\n",
      "Epoch 011/100 | Loss 0.0092 | Win/lose count 5.5/5.0 (0.5)\n",
      "Epoch 012/100 | Loss 0.0100 | Win/lose count 3.5/2.0 (1.5)\n",
      "Epoch 013/100 | Loss 0.0019 | Win/lose count 5.0/4.0 (1.0)\n",
      "Epoch 014/100 | Loss 0.0590 | Win/lose count 5.5/4.0 (1.5)\n",
      "Epoch 015/100 | Loss 0.0018 | Win/lose count 2.0/3.0 (-1.0)\n",
      "Epoch 016/100 | Loss 0.0101 | Win/lose count 3.5/3.0 (0.5)\n",
      "Epoch 017/100 | Loss 0.0058 | Win/lose count 3.0/6.0 (-3.0)\n",
      "Epoch 018/100 | Loss 0.0024 | Win/lose count 3.0/4.0 (-1.0)\n",
      "Epoch 019/100 | Loss 0.0118 | Win/lose count 1.0/2.0 (-1.0)\n",
      "Epoch 020/100 | Loss 0.0069 | Win/lose count 2.0/3.0 (-1.0)\n",
      "Epoch 021/100 | Loss 0.0082 | Win/lose count 2.5/3.0 (-0.5)\n",
      "Epoch 022/100 | Loss 0.0151 | Win/lose count 3.0/3.0 (0.0)\n",
      "Epoch 023/100 | Loss 0.0034 | Win/lose count 1.5/4.0 (-2.5)\n",
      "Epoch 024/100 | Loss 0.0028 | Win/lose count 5.5/1.0 (4.5)\n",
      "Epoch 025/100 | Loss 0.0737 | Win/lose count 7.0/2.0 (5.0)\n",
      "Epoch 026/100 | Loss 0.0561 | Win/lose count 3.5/3.0 (0.5)\n",
      "Epoch 027/100 | Loss 0.0044 | Win/lose count 4.5/2.0 (2.5)\n",
      "Epoch 028/100 | Loss 0.0020 | Win/lose count 2.0/1.0 (1.0)\n",
      "Epoch 029/100 | Loss 0.0026 | Win/lose count 2.5/6.0 (-3.5)\n",
      "Epoch 030/100 | Loss 0.0036 | Win/lose count 7.0/2.0 (5.0)\n",
      "Epoch 031/100 | Loss 0.0048 | Win/lose count 1.5/3.0 (-1.5)\n",
      "Epoch 032/100 | Loss 0.0029 | Win/lose count 3.0/3.0 (0.0)\n",
      "Epoch 033/100 | Loss 0.0049 | Win/lose count 3.5/2.0 (1.5)\n",
      "Epoch 034/100 | Loss 0.0036 | Win/lose count 6.0/2.0 (4.0)\n",
      "Epoch 035/100 | Loss 0.0029 | Win/lose count 5.0/6.0 (-1.0)\n",
      "Epoch 036/100 | Loss 0.0028 | Win/lose count 6.0/5.0 (1.0)\n",
      "Epoch 037/100 | Loss 0.0060 | Win/lose count 4.0/3.0 (1.0)\n",
      "Epoch 038/100 | Loss 0.0017 | Win/lose count 3.5/1.0 (2.5)\n",
      "Epoch 039/100 | Loss 0.0050 | Win/lose count 3.0/3.0 (0.0)\n",
      "Epoch 040/100 | Loss 0.0049 | Win/lose count 4.0/4.0 (0.0)\n",
      "Epoch 041/100 | Loss 0.0025 | Win/lose count 6.0/2.0 (4.0)\n",
      "Epoch 042/100 | Loss 0.0662 | Win/lose count 5.5/3.0 (2.5)\n",
      "Epoch 043/100 | Loss 0.0081 | Win/lose count 3.5/4.0 (-0.5)\n",
      "Epoch 044/100 | Loss 0.0045 | Win/lose count 4.5/6.0 (-1.5)\n",
      "Epoch 045/100 | Loss 0.0022 | Win/lose count 0.5/3.0 (-2.5)\n",
      "Epoch 046/100 | Loss 0.0062 | Win/lose count 4.0/3.0 (1.0)\n",
      "Epoch 047/100 | Loss 0.0110 | Win/lose count 4.5/7.0 (-2.5)\n",
      "Epoch 048/100 | Loss 0.0020 | Win/lose count 11.0/3.0 (8.0)\n",
      "Epoch 049/100 | Loss 0.0046 | Win/lose count 8.5/2.0 (6.5)\n",
      "Epoch 050/100 | Loss 0.0048 | Win/lose count 3.5/4.0 (-0.5)\n",
      "Epoch 051/100 | Loss 0.0091 | Win/lose count 7.5/4.0 (3.5)\n",
      "Epoch 052/100 | Loss 0.0058 | Win/lose count 3.0/4.0 (-1.0)\n",
      "Epoch 053/100 | Loss 0.0022 | Win/lose count 9.0/6.0 (3.0)\n",
      "Epoch 054/100 | Loss 0.0037 | Win/lose count 7.0/3.0 (4.0)\n",
      "Epoch 055/100 | Loss 0.0100 | Win/lose count 6.5/1.0 (5.5)\n",
      "Epoch 056/100 | Loss 0.0068 | Win/lose count 14.0/1.0 (13.0)\n",
      "Epoch 057/100 | Loss 0.0023 | Win/lose count 4.0/1.0 (3.0)\n",
      "Epoch 058/100 | Loss 0.0060 | Win/lose count 3.5/1.0 (2.5)\n",
      "Epoch 059/100 | Loss 0.0022 | Win/lose count 4.0/2.0 (2.0)\n",
      "Epoch 060/100 | Loss 0.0028 | Win/lose count 6.0/1.0 (5.0)\n",
      "Epoch 061/100 | Loss 0.0037 | Win/lose count 3.5/1.0 (2.5)\n",
      "Epoch 062/100 | Loss 0.0043 | Win/lose count 8.0/4.0 (4.0)\n",
      "Epoch 063/100 | Loss 0.0034 | Win/lose count 5.5/1.0 (4.5)\n",
      "Epoch 064/100 | Loss 0.0063 | Win/lose count 9.0/4.0 (5.0)\n",
      "Epoch 065/100 | Loss 0.0071 | Win/lose count 9.0/0 (9.0)\n",
      "Epoch 066/100 | Loss 0.0055 | Win/lose count 11.0/4.0 (7.0)\n",
      "Epoch 067/100 | Loss 0.0443 | Win/lose count 8.0/4.0 (4.0)\n",
      "Epoch 068/100 | Loss 0.0055 | Win/lose count 12.0/1.0 (11.0)\n",
      "Epoch 069/100 | Loss 0.0062 | Win/lose count 7.0/2.0 (5.0)\n",
      "Epoch 070/100 | Loss 0.0029 | Win/lose count 5.5/1.0 (4.5)\n",
      "Epoch 071/100 | Loss 0.0742 | Win/lose count 3.0/2.0 (1.0)\n",
      "Epoch 072/100 | Loss 0.0064 | Win/lose count 4.0/3.0 (1.0)\n",
      "Epoch 073/100 | Loss 0.0464 | Win/lose count 12.0/4.0 (8.0)\n",
      "Epoch 074/100 | Loss 0.0042 | Win/lose count 7.0/2.0 (5.0)\n",
      "Epoch 075/100 | Loss 0.0043 | Win/lose count 7.5/2.0 (5.5)\n",
      "Epoch 076/100 | Loss 0.0047 | Win/lose count 9.5/4.0 (5.5)\n",
      "Epoch 077/100 | Loss 0.0025 | Win/lose count 11.5/2.0 (9.5)\n",
      "Epoch 078/100 | Loss 0.0513 | Win/lose count 7.5/2.0 (5.5)\n",
      "Epoch 079/100 | Loss 0.0033 | Win/lose count 12.0/1.0 (11.0)\n",
      "Epoch 080/100 | Loss 0.0687 | Win/lose count 16.5/2.0 (14.5)\n",
      "Epoch 081/100 | Loss 0.0038 | Win/lose count 5.0/4.0 (1.0)\n",
      "Epoch 082/100 | Loss 0.0034 | Win/lose count 2.5/0 (2.5)\n",
      "Epoch 083/100 | Loss 0.0806 | Win/lose count 3.5/2.0 (1.5)\n",
      "Epoch 084/100 | Loss 0.0519 | Win/lose count 17.5/4.0 (13.5)\n",
      "Epoch 085/100 | Loss 0.0034 | Win/lose count 9.5/3.0 (6.5)\n",
      "Epoch 086/100 | Loss 0.0111 | Win/lose count 13.0/0 (13.0)\n",
      "Epoch 087/100 | Loss 0.0011 | Win/lose count 7.0/4.0 (3.0)\n",
      "Epoch 088/100 | Loss 0.0024 | Win/lose count 8.0/3.0 (5.0)\n",
      "Epoch 089/100 | Loss 0.0118 | Win/lose count 5.0/3.0 (2.0)\n",
      "Epoch 090/100 | Loss 0.0026 | Win/lose count 16.5/7.0 (9.5)\n",
      "Epoch 091/100 | Loss 0.0049 | Win/lose count 10.0/1.0 (9.0)\n",
      "Epoch 092/100 | Loss 0.0054 | Win/lose count 10.5/4.0 (6.5)\n",
      "Epoch 093/100 | Loss 0.0633 | Win/lose count 9.0/0 (9.0)\n",
      "Epoch 094/100 | Loss 0.0107 | Win/lose count 14.5/3.0 (11.5)\n",
      "Epoch 095/100 | Loss 0.0035 | Win/lose count 16.5/1.0 (15.5)\n",
      "Epoch 096/100 | Loss 0.0047 | Win/lose count 13.0/5.0 (8.0)\n",
      "Epoch 097/100 | Loss 0.0063 | Win/lose count 0.5/1.0 (-0.5)\n",
      "Epoch 098/100 | Loss 0.0673 | Win/lose count 8.0/3.0 (5.0)\n",
      "Epoch 099/100 | Loss 0.0046 | Win/lose count 9.0/3.0 (6.0)\n",
      "Final score: 3.005\n"
     ]
    },
    {
     "data": {
      "text/html": [
       "<video alt=\"test\" controls>\n",
       "                <source src=\"data:video/mp4;base64,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\" type=\"video/mp4\" />\n",
       "             </video>"
      ],
      "text/plain": [
       "<IPython.core.display.HTML object>"
      ]
     },
     "execution_count": 85,
     "metadata": {},
     "output_type": "execute_result"
    }
   ],
   "source": [
    "env = Environment(grid_size=size, max_time=T, temperature=0.3)\n",
    "agent = DQN_FC(size, lr=.1, epsilon = 0.1, memory_size=2000, batch_size = 32)\n",
    "train(agent, env, epochs_train, prefix='fc_train')\n",
    "HTML(display_videos('fc_train10.mp4'))"
   ]
  },
  {
   "cell_type": "markdown",
   "metadata": {},
   "source": [
    "***\n",
    "***\n",
    "__Question 8__ Implement the DQN training algorithm using a CNN (for example, 2 convolutional layers and one final fully connected layer)."
   ]
  },
  {
   "cell_type": "code",
   "execution_count": 86,
   "metadata": {
    "collapsed": true
   },
   "outputs": [],
   "source": [
    "class DQN_CNN(DQN):\n",
    "    def __init__(self, *args,lr=0.1,**kwargs):\n",
    "        super(DQN_CNN, self).__init__(*args,**kwargs)\n",
    "        \n",
    "        model = Sequential()\n",
    "        model.add(Conv2D(50,(2,2),input_shape=(5,5,self.n_state,),activation='relu'))\n",
    "        model.add(Conv2D(30,(2,2),activation='relu'))\n",
    "        model.add(Flatten())\n",
    "        model.add(Dense(4))\n",
    "        \n",
    "        model.compile(sgd(lr=lr, decay=1e-4, momentum=0.0), \"mse\")\n",
    "        self.model = model"
   ]
  },
  {
   "cell_type": "code",
   "execution_count": 87,
   "metadata": {
    "collapsed": true
   },
   "outputs": [
    {
     "name": "stdout",
     "output_type": "stream",
     "text": [
      "Epoch 000/100 | Loss 0.0068 | Win/lose count 1.5/0 (1.5)\n",
      "Epoch 001/100 | Loss 0.0015 | Win/lose count 1.0/1.0 (0.0)\n",
      "Epoch 002/100 | Loss 0.0476 | Win/lose count 3.5/2.0 (1.5)\n",
      "Epoch 003/100 | Loss 0.0045 | Win/lose count 4.0/2.0 (2.0)\n",
      "Epoch 004/100 | Loss 0.0073 | Win/lose count 1.5/3.0 (-1.5)\n",
      "Epoch 005/100 | Loss 0.0403 | Win/lose count 2.0/4.0 (-2.0)\n",
      "Epoch 006/100 | Loss 0.0038 | Win/lose count 3.5/2.0 (1.5)\n",
      "Epoch 007/100 | Loss 0.0020 | Win/lose count 2.0/1.0 (1.0)\n",
      "Epoch 008/100 | Loss 0.0016 | Win/lose count 3.5/4.0 (-0.5)\n",
      "Epoch 009/100 | Loss 0.0519 | Win/lose count 4.5/3.0 (1.5)\n",
      "Epoch 010/100 | Loss 0.0024 | Win/lose count 6.0/2.0 (4.0)\n",
      "Epoch 011/100 | Loss 0.0525 | Win/lose count 4.5/1.0 (3.5)\n",
      "Epoch 012/100 | Loss 0.0009 | Win/lose count 1.0/2.0 (-1.0)\n",
      "Epoch 013/100 | Loss 0.0022 | Win/lose count 5.0/2.0 (3.0)\n",
      "Epoch 014/100 | Loss 0.0011 | Win/lose count 4.0/5.0 (-1.0)\n",
      "Epoch 015/100 | Loss 0.0043 | Win/lose count 7.0/1.0 (6.0)\n",
      "Epoch 016/100 | Loss 0.0020 | Win/lose count 5.0/1.0 (4.0)\n",
      "Epoch 017/100 | Loss 0.0010 | Win/lose count 2.0/1.0 (1.0)\n",
      "Epoch 018/100 | Loss 0.0019 | Win/lose count 5.0/3.0 (2.0)\n",
      "Epoch 019/100 | Loss 0.0020 | Win/lose count 9.0/3.0 (6.0)\n",
      "Epoch 020/100 | Loss 0.0020 | Win/lose count 3.5/3.0 (0.5)\n",
      "Epoch 021/100 | Loss 0.0040 | Win/lose count 6.0/4.0 (2.0)\n",
      "Epoch 022/100 | Loss 0.0083 | Win/lose count 6.5/2.0 (4.5)\n",
      "Epoch 023/100 | Loss 0.0659 | Win/lose count 6.5/0 (6.5)\n",
      "Epoch 024/100 | Loss 0.0023 | Win/lose count 2.5/3.0 (-0.5)\n",
      "Epoch 025/100 | Loss 0.0019 | Win/lose count 11.0/0 (11.0)\n",
      "Epoch 026/100 | Loss 0.0028 | Win/lose count 7.5/2.0 (5.5)\n",
      "Epoch 027/100 | Loss 0.0022 | Win/lose count 6.5/3.0 (3.5)\n",
      "Epoch 028/100 | Loss 0.0016 | Win/lose count 4.0/2.0 (2.0)\n",
      "Epoch 029/100 | Loss 0.0477 | Win/lose count 9.5/4.0 (5.5)\n",
      "Epoch 030/100 | Loss 0.0011 | Win/lose count 8.0/2.0 (6.0)\n",
      "Epoch 031/100 | Loss 0.0601 | Win/lose count 9.0/3.0 (6.0)\n",
      "Epoch 032/100 | Loss 0.0496 | Win/lose count 7.0/0 (7.0)\n",
      "Epoch 033/100 | Loss 0.0023 | Win/lose count 9.5/3.0 (6.5)\n",
      "Epoch 034/100 | Loss 0.0008 | Win/lose count 6.0/4.0 (2.0)\n",
      "Epoch 035/100 | Loss 0.0019 | Win/lose count 14.5/4.0 (10.5)\n",
      "Epoch 036/100 | Loss 0.0029 | Win/lose count 4.0/0 (4.0)\n",
      "Epoch 037/100 | Loss 0.0014 | Win/lose count 12.0/2.0 (10.0)\n",
      "Epoch 038/100 | Loss 0.0013 | Win/lose count 9.5/1.0 (8.5)\n",
      "Epoch 039/100 | Loss 0.0014 | Win/lose count 4.0/1.0 (3.0)\n",
      "Epoch 040/100 | Loss 0.0008 | Win/lose count 9.5/0 (9.5)\n",
      "Epoch 041/100 | Loss 0.0021 | Win/lose count 12.0/1.0 (11.0)\n",
      "Epoch 042/100 | Loss 0.0018 | Win/lose count 13.0/4.0 (9.0)\n",
      "Epoch 043/100 | Loss 0.0036 | Win/lose count 14.0/4.0 (10.0)\n",
      "Epoch 044/100 | Loss 0.0036 | Win/lose count 15.0/2.0 (13.0)\n",
      "Epoch 045/100 | Loss 0.0071 | Win/lose count 14.0/4.0 (10.0)\n",
      "Epoch 046/100 | Loss 0.0016 | Win/lose count 15.0/4.0 (11.0)\n",
      "Epoch 047/100 | Loss 0.0010 | Win/lose count 8.0/4.0 (4.0)\n",
      "Epoch 048/100 | Loss 0.0015 | Win/lose count 7.0/2.0 (5.0)\n",
      "Epoch 049/100 | Loss 0.0536 | Win/lose count 10.0/2.0 (8.0)\n",
      "Epoch 050/100 | Loss 0.1059 | Win/lose count 20.5/4.0 (16.5)\n",
      "Epoch 051/100 | Loss 0.0013 | Win/lose count 7.0/1.0 (6.0)\n",
      "Epoch 052/100 | Loss 0.0014 | Win/lose count 10.5/2.0 (8.5)\n",
      "Epoch 053/100 | Loss 0.0022 | Win/lose count 15.0/3.0 (12.0)\n",
      "Epoch 054/100 | Loss 0.0041 | Win/lose count 8.0/1.0 (7.0)\n",
      "Epoch 055/100 | Loss 0.0020 | Win/lose count 6.5/1.0 (5.5)\n",
      "Epoch 056/100 | Loss 0.0016 | Win/lose count 9.5/2.0 (7.5)\n",
      "Epoch 057/100 | Loss 0.0011 | Win/lose count 4.5/1.0 (3.5)\n",
      "Epoch 058/100 | Loss 0.0016 | Win/lose count 18.5/0 (18.5)\n",
      "Epoch 059/100 | Loss 0.0013 | Win/lose count 15.0/2.0 (13.0)\n",
      "Epoch 060/100 | Loss 0.0018 | Win/lose count 18.0/0 (18.0)\n",
      "Epoch 061/100 | Loss 0.0032 | Win/lose count 7.5/2.0 (5.5)\n",
      "Epoch 062/100 | Loss 0.0016 | Win/lose count 18.0/5.0 (13.0)\n",
      "Epoch 063/100 | Loss 0.0543 | Win/lose count 16.0/4.0 (12.0)\n",
      "Epoch 064/100 | Loss 0.0016 | Win/lose count 10.5/2.0 (8.5)\n",
      "Epoch 065/100 | Loss 0.0019 | Win/lose count 10.0/2.0 (8.0)\n",
      "Epoch 066/100 | Loss 0.0016 | Win/lose count 15.0/1.0 (14.0)\n",
      "Epoch 067/100 | Loss 0.0017 | Win/lose count 4.0/3.0 (1.0)\n",
      "Epoch 068/100 | Loss 0.0012 | Win/lose count 17.5/2.0 (15.5)\n",
      "Epoch 069/100 | Loss 0.0033 | Win/lose count 7.0/1.0 (6.0)\n",
      "Epoch 070/100 | Loss 0.0562 | Win/lose count 9.5/4.0 (5.5)\n",
      "Epoch 071/100 | Loss 0.0012 | Win/lose count 15.0/3.0 (12.0)\n",
      "Epoch 072/100 | Loss 0.0645 | Win/lose count 12.0/1.0 (11.0)\n",
      "Epoch 073/100 | Loss 0.0016 | Win/lose count 9.0/2.0 (7.0)\n",
      "Epoch 074/100 | Loss 0.0038 | Win/lose count 16.0/3.0 (13.0)\n",
      "Epoch 075/100 | Loss 0.0012 | Win/lose count 12.5/3.0 (9.5)\n",
      "Epoch 076/100 | Loss 0.0015 | Win/lose count 9.0/0 (9.0)\n",
      "Epoch 077/100 | Loss 0.0018 | Win/lose count 13.0/1.0 (12.0)\n",
      "Epoch 078/100 | Loss 0.0038 | Win/lose count 8.0/1.0 (7.0)\n",
      "Epoch 079/100 | Loss 0.0009 | Win/lose count 11.0/5.0 (6.0)\n",
      "Epoch 080/100 | Loss 0.0028 | Win/lose count 13.0/1.0 (12.0)\n",
      "Epoch 081/100 | Loss 0.0580 | Win/lose count 12.5/0 (12.5)\n",
      "Epoch 082/100 | Loss 0.0021 | Win/lose count 7.5/2.0 (5.5)\n",
      "Epoch 083/100 | Loss 0.0020 | Win/lose count 17.0/2.0 (15.0)\n",
      "Epoch 084/100 | Loss 0.0024 | Win/lose count 15.5/2.0 (13.5)\n",
      "Epoch 085/100 | Loss 0.0028 | Win/lose count 12.5/2.0 (10.5)\n",
      "Epoch 086/100 | Loss 0.0560 | Win/lose count 16.0/4.0 (12.0)\n",
      "Epoch 087/100 | Loss 0.0510 | Win/lose count 25.0/3.0 (22.0)\n",
      "Epoch 088/100 | Loss 0.0636 | Win/lose count 11.5/0 (11.5)\n",
      "Epoch 089/100 | Loss 0.0032 | Win/lose count 17.0/2.0 (15.0)\n",
      "Epoch 090/100 | Loss 0.0011 | Win/lose count 11.0/1.0 (10.0)\n",
      "Epoch 091/100 | Loss 0.0017 | Win/lose count 14.5/1.0 (13.5)\n",
      "Epoch 092/100 | Loss 0.0494 | Win/lose count 9.5/2.0 (7.5)\n",
      "Epoch 093/100 | Loss 0.0026 | Win/lose count 16.0/3.0 (13.0)\n",
      "Epoch 094/100 | Loss 0.0010 | Win/lose count 12.5/0 (12.5)\n",
      "Epoch 095/100 | Loss 0.0018 | Win/lose count 16.5/3.0 (13.5)\n",
      "Epoch 096/100 | Loss 0.0029 | Win/lose count 19.5/2.0 (17.5)\n",
      "Epoch 097/100 | Loss 0.0042 | Win/lose count 10.0/3.0 (7.0)\n",
      "Epoch 098/100 | Loss 0.0028 | Win/lose count 17.5/3.0 (14.5)\n",
      "Epoch 099/100 | Loss 0.0017 | Win/lose count 17.0/4.0 (13.0)\n",
      "Final score: 7.7\n"
     ]
    },
    {
     "data": {
      "text/html": [
       "<video alt=\"test\" controls>\n",
       "                <source src=\"data:video/mp4;base64,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\" type=\"video/mp4\" />\n",
       "             </video>"
      ],
      "text/plain": [
       "<IPython.core.display.HTML object>"
      ]
     },
     "execution_count": 87,
     "metadata": {},
     "output_type": "execute_result"
    }
   ],
   "source": [
    "env = Environment(grid_size=size, max_time=T, temperature=0.3)\n",
    "agent = DQN_CNN(size, lr=.1, epsilon = 0.1, memory_size=2000, batch_size = 32)\n",
    "train(agent,env,epochs_train,prefix='cnn_train')\n",
    "HTML(display_videos('cnn_train10.mp4'))"
   ]
  },
  {
   "cell_type": "markdown",
   "metadata": {},
   "source": [
    "***\n",
    "***\n",
    "__Question 9__ Test both algorithms and compare their performances. Which issue(s) do you observe? Observe also different behaviors by changing the temperature."
   ]
  },
  {
   "cell_type": "code",
   "execution_count": 146,
   "metadata": {
    "collapsed": true
   },
   "outputs": [
    {
     "name": "stdout",
     "output_type": "stream",
     "text": [
      "Test of the CNN\n",
      "Epoch 000/020 | Loss 0.0000 | Win/lose count 6.5/0 (6.5)\n",
      "Epoch 001/020 | Loss 0.0000 | Win/lose count 13.5/0 (13.5)\n",
      "Epoch 002/020 | Loss 0.0000 | Win/lose count 4.0/0 (4.0)\n",
      "Epoch 003/020 | Loss 0.0000 | Win/lose count 3.5/0 (3.5)\n",
      "Epoch 004/020 | Loss 0.0000 | Win/lose count 9.0/0 (9.0)\n",
      "Epoch 005/020 | Loss 0.0000 | Win/lose count 4.5/0 (4.5)\n",
      "Epoch 006/020 | Loss 0.0000 | Win/lose count 10.0/0 (10.0)\n",
      "Epoch 007/020 | Loss 0.0000 | Win/lose count 4.5/0 (4.5)\n",
      "Epoch 008/020 | Loss 0.0000 | Win/lose count 0.5/0 (0.5)\n",
      "Epoch 009/020 | Loss 0.0000 | Win/lose count 2.5/0 (2.5)\n",
      "Epoch 010/020 | Loss 0.0000 | Win/lose count 13.5/0 (13.5)\n",
      "Epoch 011/020 | Loss 0.0000 | Win/lose count 4.0/0 (4.0)\n",
      "Epoch 012/020 | Loss 0.0000 | Win/lose count 10.0/0 (10.0)\n",
      "Epoch 013/020 | Loss 0.0000 | Win/lose count 7.5/0 (7.5)\n",
      "Epoch 014/020 | Loss 0.0000 | Win/lose count 2.5/0 (2.5)\n",
      "Epoch 015/020 | Loss 0.0000 | Win/lose count 4.0/0 (4.0)\n",
      "Epoch 016/020 | Loss 0.0000 | Win/lose count 7.5/0 (7.5)\n",
      "Epoch 017/020 | Loss 0.0000 | Win/lose count 6.5/0 (6.5)\n",
      "Epoch 018/020 | Loss 0.0000 | Win/lose count 11.5/0 (11.5)\n",
      "Epoch 019/020 | Loss 0.0000 | Win/lose count 1.5/0 (1.5)\n",
      "Final score: 6.35\n",
      "Test of the FC\n",
      "Epoch 000/020 | Loss 0.0000 | Win/lose count 4.0/0 (4.0)\n",
      "Epoch 001/020 | Loss 0.0000 | Win/lose count 3.5/1.0 (2.5)\n",
      "Epoch 002/020 | Loss 0.0000 | Win/lose count 4.0/0 (4.0)\n",
      "Epoch 003/020 | Loss 0.0000 | Win/lose count 2.5/0 (2.5)\n",
      "Epoch 004/020 | Loss 0.0000 | Win/lose count 6.5/0 (6.5)\n",
      "Epoch 005/020 | Loss 0.0000 | Win/lose count 7.0/0 (7.0)\n",
      "Epoch 006/020 | Loss 0.0000 | Win/lose count 1.5/0 (1.5)\n",
      "Epoch 007/020 | Loss 0.0000 | Win/lose count 0.5/0 (0.5)\n",
      "Epoch 008/020 | Loss 0.0000 | Win/lose count 1.0/0 (1.0)\n",
      "Epoch 009/020 | Loss 0.0000 | Win/lose count 1.0/0 (1.0)\n",
      "Epoch 010/020 | Loss 0.0000 | Win/lose count 1.5/0 (1.5)\n",
      "Epoch 011/020 | Loss 0.0000 | Win/lose count 0/0 (0)\n",
      "Epoch 012/020 | Loss 0.0000 | Win/lose count 4.0/0 (4.0)\n",
      "Epoch 013/020 | Loss 0.0000 | Win/lose count 3.0/0 (3.0)\n",
      "Epoch 014/020 | Loss 0.0000 | Win/lose count 4.0/0 (4.0)\n",
      "Epoch 015/020 | Loss 0.0000 | Win/lose count 2.0/0 (2.0)\n",
      "Epoch 016/020 | Loss 0.0000 | Win/lose count 1.0/0 (1.0)\n",
      "Epoch 017/020 | Loss 0.0000 | Win/lose count 0.5/0 (0.5)\n",
      "Epoch 018/020 | Loss 0.0000 | Win/lose count 1.0/0 (1.0)\n",
      "Epoch 019/020 | Loss 0.0000 | Win/lose count 2.0/0 (2.0)\n",
      "Final score: 2.475\n"
     ]
    }
   ],
   "source": [
    "env = Environment(grid_size=size, max_time=T,temperature=0.3)\n",
    "\n",
    "agent_cnn = DQN_CNN(size, lr=.1, epsilon = 0.1, memory_size=2000, batch_size = 32)\n",
    "agent_cnn.load(name_weights='cnn_trainmodel.h5',name_model='cnn_trainmodel.json')\n",
    "\n",
    "agent_fc = DQN_FC(size, lr=.1, epsilon = 0.1, memory_size=2000, batch_size = 32)\n",
    "agent_fc.load(name_weights='fc_trainmodel.h5',name_model='fc_trainmodel.json')\n",
    "print('Test of the CNN')\n",
    "test(agent_cnn,env,epochs_test,prefix='cnn_test')\n",
    "print('Test of the FC')\n",
    "test(agent_fc,env,epochs_test,prefix='fc_test')"
   ]
  },
  {
   "cell_type": "code",
   "execution_count": 147,
   "metadata": {
    "collapsed": true
   },
   "outputs": [
    {
     "data": {
      "text/html": [
       "<video alt=\"test\" controls>\n",
       "                <source src=\"data:video/mp4;base64,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\" type=\"video/mp4\" />\n",
       "             </video>"
      ],
      "text/plain": [
       "<IPython.core.display.HTML object>"
      ]
     },
     "execution_count": 147,
     "metadata": {},
     "output_type": "execute_result"
    }
   ],
   "source": [
    "HTML(display_videos('cnn_test10.mp4'))"
   ]
  },
  {
   "cell_type": "code",
   "execution_count": 148,
   "metadata": {
    "collapsed": true
   },
   "outputs": [
    {
     "data": {
      "text/html": [
       "<video alt=\"test\" controls>\n",
       "                <source src=\"data:video/mp4;base64,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\" type=\"video/mp4\" />\n",
       "             </video>"
      ],
      "text/plain": [
       "<IPython.core.display.HTML object>"
      ]
     },
     "execution_count": 148,
     "metadata": {},
     "output_type": "execute_result"
    }
   ],
   "source": [
    "HTML(display_videos('fc_test10.mp4'))"
   ]
  },
  {
   "cell_type": "markdown",
   "metadata": {},
   "source": [
    " | Temperature        |  Final score CNN   |  Final score FC |\n",
    " | :------------      | :-------------:     | -------------:  |\n",
    " | 0.1            |     2.05        |        1.15  |\n",
    " | 0.2          |   4.12       |      2.02  |\n",
    " | 0.3             |     5.475         |         3.39  |\n",
    "  | 0.4             |     8.83         |         3.70  |\n",
    " | 0.5             |     11.82          |         4.58  |\n",
    " | 0.6             |     15.76         |         7.02  |\n",
    " | 0.7             |     20.6         |         9.725  |\n",
    " | 0.8             |     31.16         |         11.  |\n",
    " | 0.9             |     37.75          |         15.5  |\n",
    " \n",
    "\n"
   ]
  },
  {
   "cell_type": "markdown",
   "metadata": {},
   "source": [
    "As we can see above, the convolutional neural network tends to have better result then the other algorithm. more we increase the temperature's value more our score is elevate which is logical. :\n",
    "\n",
    "We observe some issues:\n",
    "    - the agent can stay in a case with only empty case around him because he doesnt know that he already visite this environement.\n",
    "    For that we have to add a malus on every case he already visit to force him to explore some new environment.\n",
    "    - moreover it is more safe to stay here than to try other case which can have malus on it.\n",
    "    - he can stay stuck in an empty case over and over making the same choice.\n"
   ]
  },
  {
   "cell_type": "markdown",
   "metadata": {},
   "source": []
  },
  {
   "cell_type": "markdown",
   "metadata": {},
   "source": [
    "***\n",
    "\n",
    "The algorithm tends to not explore the map which can be an issue. We propose two ideas in order to encourage exploration:\n",
    "1. Incorporating a decreasing $\\epsilon$-greedy exploration. You can use the method ```set_epsilon```\n",
    "2. Append via the environment a new state that describes if a cell has been visited or not\n",
    "\n",
    "***\n",
    "__Question 10__ Design a new ```train_explore``` function and environment class ```EnvironmentExploring``` to tackle the issue of exploration.\n",
    "\n"
   ]
  },
  {
   "cell_type": "code",
   "execution_count": 141,
   "metadata": {},
   "outputs": [],
   "source": [
    "def train_explore(agent, env, epoch, epsilon=0.1, decay=0.99, prefix=''):\n",
    "    # Number of won games\n",
    "    score = 0\n",
    "\n",
    "    for e in range(epoch):\n",
    "        # At each epoch, we restart to a fresh game and get the initial state\n",
    "        state = env.reset()\n",
    "        # This assumes that the games will terminate\n",
    "        game_over = False\n",
    "        win, lose = 0, 0\n",
    "        agent.set_epsilon(epsilon)\n",
    "        \n",
    "        while not game_over:\n",
    "            # The agent performs an action\n",
    "            action = agent.act(state)\n",
    "            agent.set_epsilon(decay) \n",
    "            \n",
    "            prev_state = state\n",
    "            state, reward, game_over = env.act(action, train=True)\n",
    "            \n",
    "            # Update the counters\n",
    "            if reward > 0:\n",
    "                win += reward\n",
    "            if reward < 0:\n",
    "                lose -= reward\n",
    "                \n",
    "            # Apply the reinforcement strategy\n",
    "            loss = agent.reinforce(prev_state, state, action, reward, game_over)\n",
    "            \n",
    "        # Save as a mp4\n",
    "        if e % 10 == 0:\n",
    "            env.draw(prefix+str(e))\n",
    "            \n",
    "        # Update stats\n",
    "        score += win-lose\n",
    "        print(\"Epoch {:03d}/{:03d} | Loss {:.4f} | Win/lose count {:3.2f}/{:3.2f} ({:3.2f})\"\n",
    "              .format(e, epoch, loss, win, lose, win-lose))\n",
    "        agent.save(name_weights=prefix+'model.h5',name_model=prefix+'model.json')\n",
    "    print('Final score: '+str(score/epoch))\n",
    "\n",
    "        \n",
    "        \n",
    "class EnvironmentExploring(object):\n",
    "    def __init__(self, grid_size=10, max_time=500, temperature=0.1):\n",
    "        grid_size = grid_size+4\n",
    "        self.grid_size = grid_size\n",
    "        self.max_time = max_time\n",
    "        self.temperature = temperature\n",
    "        \n",
    "        self.board = np.zeros((grid_size,grid_size))\n",
    "        self.position = np.zeros((grid_size,grid_size))\n",
    "        self.malus_position = np.zeros((grid_size,grid_size))\n",
    "        \n",
    "        self.x = 0\n",
    "        self.y = 1\n",
    "        \n",
    "        # self time\n",
    "        self.t = 0\n",
    "        self.scale=16\n",
    "        self.to_draw = np.zeros((max_time+2, grid_size*self.scale, grid_size*self.scale, 3))\n",
    "\n",
    "    def draw(self,e):\n",
    "        skvideo.io.vwrite(str(e) + '.mp4', self.to_draw)\n",
    "\n",
    "    def get_frame(self,t):\n",
    "        b = np.zeros((self.grid_size,self.grid_size,3))+128\n",
    "        b[self.board>0,0]    = 256\n",
    "        b[self.board<0, 2] = 256\n",
    "        b[self.x,self.y,:]   = 256\n",
    "        b[-2:,:,:] = 0\n",
    "        b[:,-2:,:] = 0\n",
    "        b[:2,:,:]  = 0\n",
    "        b[:,:2,:]  = 0\n",
    "        b =  cv2.resize(b, None, fx=self.scale, fy=self.scale, interpolation=cv2.INTER_NEAREST)\n",
    "        self.to_draw[t,:,:,:]=b\n",
    "\n",
    "\n",
    "    def act(self, action, train=False):\n",
    "        \"\"\"This function returns the new state, reward and decides if the\n",
    "        game ends.\"\"\"\n",
    "        \n",
    "        self.get_frame(int(self.t))\n",
    "        self.position = np.zeros((self.grid_size, self.grid_size))\n",
    "        self.position[0:2,:]= -1\n",
    "        self.position[:,0:2] = -1\n",
    "        self.position[-2:, :] = -1 \n",
    "        self.position[:, -2:] = -1\n",
    "        self.position[self.x, self.y] = 1\n",
    "        \n",
    "        if action == 0:\n",
    "            if self.x == self.grid_size-3:\n",
    "                self.x = self.x-1\n",
    "            else:\n",
    "                self.x = self.x + 1\n",
    "        elif action == 1:\n",
    "            if self.x == 2:\n",
    "                self.x = self.x+1\n",
    "            else:\n",
    "                self.x = self.x-1\n",
    "        elif action == 2:\n",
    "            if self.y == self.grid_size - 3:\n",
    "                self.y = self.y - 1\n",
    "            else:\n",
    "                self.y = self.y + 1\n",
    "        elif action == 3:\n",
    "            if self.y == 2:\n",
    "                self.y = self.y + 1\n",
    "            else:\n",
    "                self.y = self.y - 1\n",
    "        else:\n",
    "            RuntimeError('Error: action not recognized')\n",
    "\n",
    "        self.t = self.t + 1\n",
    "        \n",
    "        reward = 0\n",
    "        if train:\n",
    "            reward = -self.malus_position[self.x, self.y]\n",
    "            \n",
    "        self.malus_position[self.x, self.y] += 0.1\n",
    "        reward = reward + self.board[self.x, self.y]   \n",
    "        \n",
    "        self.board[self.x, self.y] = 0 # erase reward from board\n",
    "        game_over = self.t > self.max_time # game over if more than 500 steps\n",
    "\n",
    "        state = np.concatenate((self.malus_position.reshape(self.grid_size, self.grid_size,1),\n",
    "                                self.board.reshape(self.grid_size, self.grid_size,1),\n",
    "                                self.position.reshape(self.grid_size, self.grid_size,1)),axis=2)\n",
    "        \n",
    "        state = state[self.x-2:self.x+3,self.y-2:self.y+3,:]\n",
    "\n",
    "        return state, reward, game_over\n",
    "\n",
    "    def reset(self):\n",
    "        \"\"\"This function resets the game and returns the initial state\"\"\"\n",
    "\n",
    "        self.x = np.random.randint(3, self.grid_size-3, size=1)[0]\n",
    "        self.y = np.random.randint(3, self.grid_size-3, size=1)[0]\n",
    "\n",
    "      \n",
    "        bonus = 0.5*np.random.binomial(1,self.temperature,size=self.grid_size**2)\n",
    "        bonus = bonus.reshape(self.grid_size,self.grid_size)\n",
    "\n",
    "        \n",
    "        malus = -1.0*np.random.binomial(1,self.temperature,size=self.grid_size**2)\n",
    "        malus = malus.reshape(self.grid_size, self.grid_size)\n",
    "\n",
    "        self.to_draw = np.zeros((self.max_time+2, self.grid_size*self.scale, self.grid_size*self.scale, 3))\n",
    "\n",
    "\n",
    "        malus[bonus>0]=0 \n",
    "\n",
    "        self.board = bonus + malus \n",
    "        \n",
    "       \n",
    "        self.board[:2,:] = 0\n",
    "        self.board[-2:,:] = 0\n",
    "        self.board[:, :2] = 0\n",
    "        self.board[:, -2:] = 0\n",
    "\n",
    "        self.position = np.zeros((self.grid_size, self.grid_size))\n",
    "        self.position[0:2,:]= -1\n",
    "        self.position[:,0:2] = -1\n",
    "        self.position[-2:, :] = -1\n",
    "        self.position[:, -2:] = -1\n",
    "        self.board[self.x,self.y] = 0\n",
    "        self.t = 0\n",
    "        \n",
    "        self.malus_position = np.zeros((self.grid_size, self.grid_size))\n",
    "\n",
    "        state = np.concatenate((self.malus_position.reshape(self.grid_size, self.grid_size,1),\n",
    "                                self.board.reshape(self.grid_size, self.grid_size,1),\n",
    "                                self.position.reshape(self.grid_size, self.grid_size,1)),axis=2)\n",
    "\n",
    "        state = state[self.x - 2:self.x + 3, self.y - 2:self.y + 3, :]\n",
    "        return state"
   ]
  },
  {
   "cell_type": "code",
   "execution_count": 142,
   "metadata": {
    "collapsed": true
   },
   "outputs": [
    {
     "name": "stdout",
     "output_type": "stream",
     "text": [
      "Epoch 000/020 | Loss 0.0151 | Win/lose count 11.00/52.90 (-41.90)\n",
      "Epoch 001/020 | Loss 0.0181 | Win/lose count 9.50/51.60 (-42.10)\n",
      "Epoch 002/020 | Loss 0.0149 | Win/lose count 8.50/52.10 (-43.60)\n",
      "Epoch 003/020 | Loss 0.0522 | Win/lose count 8.50/59.00 (-50.50)\n",
      "Epoch 004/020 | Loss 0.0160 | Win/lose count 12.00/56.80 (-44.80)\n",
      "Epoch 005/020 | Loss 0.0126 | Win/lose count 9.00/45.50 (-36.50)\n",
      "Epoch 006/020 | Loss 0.0081 | Win/lose count 7.50/59.80 (-52.30)\n",
      "Epoch 007/020 | Loss 0.0044 | Win/lose count 7.50/40.90 (-33.40)\n",
      "Epoch 008/020 | Loss 0.0066 | Win/lose count 10.50/47.40 (-36.90)\n",
      "Epoch 009/020 | Loss 0.0091 | Win/lose count 9.00/62.20 (-53.20)\n",
      "Epoch 010/020 | Loss 0.0059 | Win/lose count 14.50/38.50 (-24.00)\n",
      "Epoch 011/020 | Loss 0.0350 | Win/lose count 11.00/48.40 (-37.40)\n",
      "Epoch 012/020 | Loss 0.0059 | Win/lose count 9.00/86.10 (-77.10)\n",
      "Epoch 013/020 | Loss 0.0628 | Win/lose count 13.00/39.40 (-26.40)\n",
      "Epoch 014/020 | Loss 0.0073 | Win/lose count 10.00/53.80 (-43.80)\n",
      "Epoch 015/020 | Loss 0.0056 | Win/lose count 10.50/55.50 (-45.00)\n",
      "Epoch 016/020 | Loss 0.0088 | Win/lose count 8.50/38.10 (-29.60)\n",
      "Epoch 017/020 | Loss 0.0047 | Win/lose count 12.00/50.10 (-38.10)\n",
      "Epoch 018/020 | Loss 0.0297 | Win/lose count 13.50/40.60 (-27.10)\n",
      "Epoch 019/020 | Loss 0.0091 | Win/lose count 10.00/53.60 (-43.60)\n",
      "Final score: -41.36500000000002\n"
     ]
    },
    {
     "data": {
      "text/html": [
       "<video alt=\"test\" controls>\n",
       "                <source src=\"data:video/mp4;base64,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\" type=\"video/mp4\" />\n",
       "             </video>"
      ],
      "text/plain": [
       "<IPython.core.display.HTML object>"
      ]
     },
     "execution_count": 142,
     "metadata": {},
     "output_type": "execute_result"
    }
   ],
   "source": [
    "# Training\n",
    "epochs_train=20\n",
    "\n",
    "env = EnvironmentExploring(grid_size=size, max_time=T, temperature=0.3)\n",
    "agent = DQN_CNN(size, lr=.1, epsilon = 0.1, memory_size=2000, batch_size = 32,n_state=3)\n",
    "train_explore(agent, env, epochs_train, prefix='cnn_train_explore')\n",
    "HTML(display_videos('cnn_train_explore10.mp4'))"
   ]
  },
  {
   "cell_type": "code",
   "execution_count": 143,
   "metadata": {
    "collapsed": true
   },
   "outputs": [
    {
     "name": "stdout",
     "output_type": "stream",
     "text": [
      "Epoch 000/020 | Loss 0.0000 | Win/lose count 29.0/0 (29.0)\n",
      "Epoch 001/020 | Loss 0.0000 | Win/lose count 20.0/1.0 (19.0)\n",
      "Epoch 002/020 | Loss 0.0000 | Win/lose count 16.5/1.0 (15.5)\n",
      "Epoch 003/020 | Loss 0.0000 | Win/lose count 17.0/1.0 (16.0)\n",
      "Epoch 004/020 | Loss 0.0000 | Win/lose count 27.5/0 (27.5)\n",
      "Epoch 005/020 | Loss 0.0000 | Win/lose count 20.0/0 (20.0)\n",
      "Epoch 006/020 | Loss 0.0000 | Win/lose count 21.0/0 (21.0)\n",
      "Epoch 007/020 | Loss 0.0000 | Win/lose count 29.0/1.0 (28.0)\n",
      "Epoch 008/020 | Loss 0.0000 | Win/lose count 19.0/4.0 (15.0)\n",
      "Epoch 009/020 | Loss 0.0000 | Win/lose count 23.0/0 (23.0)\n",
      "Epoch 010/020 | Loss 0.0000 | Win/lose count 20.0/0 (20.0)\n",
      "Epoch 011/020 | Loss 0.0000 | Win/lose count 17.0/0 (17.0)\n",
      "Epoch 012/020 | Loss 0.0000 | Win/lose count 24.0/1.0 (23.0)\n",
      "Epoch 013/020 | Loss 0.0000 | Win/lose count 25.0/3.0 (22.0)\n",
      "Epoch 014/020 | Loss 0.0000 | Win/lose count 17.0/1.0 (16.0)\n",
      "Epoch 015/020 | Loss 0.0000 | Win/lose count 28.5/0 (28.5)\n",
      "Epoch 016/020 | Loss 0.0000 | Win/lose count 16.5/0 (16.5)\n",
      "Epoch 017/020 | Loss 0.0000 | Win/lose count 22.5/2.0 (20.5)\n",
      "Epoch 018/020 | Loss 0.0000 | Win/lose count 26.0/0 (26.0)\n",
      "Epoch 019/020 | Loss 0.0000 | Win/lose count 19.5/1.0 (18.5)\n",
      "Final score: 21.1\n"
     ]
    },
    {
     "data": {
      "text/html": [
       "<video alt=\"test\" controls>\n",
       "                <source src=\"data:video/mp4;base64,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\" type=\"video/mp4\" />\n",
       "             </video>"
      ],
      "text/plain": [
       "<IPython.core.display.HTML object>"
      ]
     },
     "execution_count": 143,
     "metadata": {},
     "output_type": "execute_result"
    }
   ],
   "source": [
    "# Evaluation\n",
    "test(agent,env,epochs_test,prefix='cnn_test_explore')\n",
    "HTML(display_videos('cnn_test_explore10.mp4'))"
   ]
  },
  {
   "cell_type": "markdown",
   "metadata": {},
   "source": [
    "***\n",
    "***\n",
    "__BONUS question__ Use the expert DQN from the previous question to generate some winning games. Train a model that mimicks its behavior. Compare the performances."
   ]
  },
  {
   "cell_type": "markdown",
   "metadata": {},
   "source": []
  },
  {
   "cell_type": "markdown",
   "metadata": {},
   "source": [
    "***"
   ]
  }
 ],
 "metadata": {
  "kernelspec": {
   "display_name": "Python 3",
   "language": "python",
   "name": "python3"
  },
  "language_info": {
   "codemirror_mode": {
    "name": "ipython",
    "version": 3
   },
   "file_extension": ".py",
   "mimetype": "text/x-python",
   "name": "python",
   "nbconvert_exporter": "python",
   "pygments_lexer": "ipython3",
   "version": "3.7.1"
  }
 },
 "nbformat": 4,
 "nbformat_minor": 2
}
